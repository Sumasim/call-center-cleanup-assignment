{
 "cells": [
  {
   "cell_type": "markdown",
   "id": "331a1c4f",
   "metadata": {},
   "source": [
    "# Call Center Cleanup\n",
    "\n",
    "For this assignment, we will be working with call center data. You can start working on the assignment after the first lesson on Exploratory Data Analysis. Make sure to read the whole assignment before starting anything! As you code along in the Jupyter notebook, you are asked to make note of the results of your analysis. Do so by clicking on the results box and adding your notes beside each question.\n",
    "\n",
    "## Business Issue and Understanding\n",
    "\n",
    "You are working for a company that has two call centers: the North Call Center and the South Call Center. The company is looking to possibly hire five additional reps to enhance customer experience. Your task is to explore how efficient the current reps are in each branch to determine which branch would benefit from additional assistance.\n",
    "\n",
    "### How the Call Center Works\n",
    "\n",
    "Call center representatives are assigned queues. When calls are assigned to a queue, the call is assigned to the next person in line in the queue. After a call is assigned to a representative, the amount of time between assignment and the call starting is divided into busy minutes and not ready minutes. If the call is incoming and a customer is waiting on the phone for a rep, the time is split into three categories: busy minutes, not ready minutes, and incoming call wait time. Once the rep has the customer on the phone, there might be during call wait time, where the call is put on hold while the rep gets an answer for the customer.\n",
    "\n",
    "### Notes about the Dataset\n",
    "\n",
    "If you haven't worked in a call center before, these notes might help you throughout your analysis.\n",
    "\n",
    "* The call purpose is tagged for each call.\n",
    "* The time of the call is tagged in 1 hour blocks starting at 9:00 AM and ending at 5:00 PM.\n",
    "* Calls are tagged as incoming or outgoing.\n",
    "* Reps are assigned to queues. When the reps are working, they take calls in the order of their queue.\n",
    "* A call that is dropped due to technical error or missed by the center because they have reached maximum capacity is a lost call.\n",
    "* An abandoned call is when the customer hangs up because they have been waiting for too long.\n",
    "* Busy Minutes: the amount of time after a call comes in or needs to go out where the assigned rep is not available because they are busy with other customers.\n",
    "* Not Ready Minutes: the amount of time after a call comes in or needs to go out where the assigned rep is not available because they are not ready (for example, getting water).\n",
    "* Incoming Wait Time - amount of time after assigned rep is available to take the call customer waits for representative to pick up a call. This is tracked in seconds.\n",
    "* During Call Wait Time - amount of time during call that customer has to wait for representative\n",
    "\n",
    "## Getting Started\n",
    "\n",
    "You have two CSVs at your disposal, `NorthCallCenter.csv` and `SouthCallCenter.csv`. Import the appropriate libraries and create two dataframes, one called `north_df` and one called `south_df`."
   ]
  },
  {
   "cell_type": "code",
   "execution_count": 1,
   "id": "f362436b",
   "metadata": {},
   "outputs": [],
   "source": [
    "# Import the appropriate libraries with aliases\n",
    "import pandas as pd\n",
    "import numpy as np\n",
    "import seaborn as sns\n",
    "import matplotlib.pyplot as plt\n",
    "import matplotlib.mlab as mlab\n",
    "import matplotlib\n",
    "plt.style.use('ggplot')\n",
    "from matplotlib.pyplot import figure\n",
    "\n",
    "%matplotlib inline\n",
    "matplotlib.rcParams['figure.figsize'] = (12,8)\n",
    "\n",
    "# Create two new dataframes\n",
    "north_df=pd.read_csv('C:/Users/suma/Desktop/Data Analysis/call-center-cleanup-assignment/NorthCallCenter.csv')\n",
    "south_df=pd.read_csv('C:/Users/suma/Desktop/Data Analysis/call-center-cleanup-assignment/SouthCallCenter.csv')\n",
    "\n"
   ]
  },
  {
   "cell_type": "code",
   "execution_count": 2,
   "id": "4a449e36",
   "metadata": {},
   "outputs": [
    {
     "data": {
      "text/plain": [
       "Index(['Unnamed: 0', 'Branch', 'Call Purpose', 'Time Block',\n",
       "       'Incoming or Outgoing', 'Queue', 'Rep ID', 'Sale', 'Lost Call',\n",
       "       'Abandoned', 'Busy Minutes', 'Not Ready Minutes', 'Incoming Wait Time',\n",
       "       'During Call Wait Time', 'Calls'],\n",
       "      dtype='object')"
      ]
     },
     "execution_count": 2,
     "metadata": {},
     "output_type": "execute_result"
    }
   ],
   "source": [
    "north_df.columns\n",
    "south_df.columns"
   ]
  },
  {
   "cell_type": "code",
   "execution_count": 3,
   "id": "2be66abf",
   "metadata": {},
   "outputs": [
    {
     "name": "stdout",
     "output_type": "stream",
     "text": [
      "<class 'pandas.core.frame.DataFrame'>\n",
      "RangeIndex: 245 entries, 0 to 244\n",
      "Data columns (total 15 columns):\n",
      " #   Column                 Non-Null Count  Dtype  \n",
      "---  ------                 --------------  -----  \n",
      " 0   Unnamed: 0             245 non-null    int64  \n",
      " 1   Branch                 245 non-null    object \n",
      " 2   Call Purpose           245 non-null    object \n",
      " 3   Time Block             245 non-null    object \n",
      " 4   Incoming or Outgoing   245 non-null    object \n",
      " 5   Queue                  245 non-null    object \n",
      " 6   Rep ID                 245 non-null    object \n",
      " 7   Sale                   245 non-null    object \n",
      " 8   Lost Call              245 non-null    int64  \n",
      " 9   Abandoned              245 non-null    int64  \n",
      " 10  Busy Minutes           245 non-null    int64  \n",
      " 11  Not Ready Minutes      245 non-null    int64  \n",
      " 12  Incoming Wait Time     82 non-null     float64\n",
      " 13  During Call Wait Time  245 non-null    int64  \n",
      " 14  Calls                  245 non-null    int64  \n",
      "dtypes: float64(1), int64(7), object(7)\n",
      "memory usage: 28.8+ KB\n"
     ]
    }
   ],
   "source": [
    "north_df.info()"
   ]
  },
  {
   "cell_type": "code",
   "execution_count": 4,
   "id": "2cdcf3b9",
   "metadata": {},
   "outputs": [
    {
     "name": "stdout",
     "output_type": "stream",
     "text": [
      "<class 'pandas.core.frame.DataFrame'>\n",
      "RangeIndex: 314 entries, 0 to 313\n",
      "Data columns (total 15 columns):\n",
      " #   Column                 Non-Null Count  Dtype  \n",
      "---  ------                 --------------  -----  \n",
      " 0   Unnamed: 0             314 non-null    int64  \n",
      " 1   Branch                 314 non-null    object \n",
      " 2   Call Purpose           314 non-null    object \n",
      " 3   Time Block             314 non-null    object \n",
      " 4   Incoming or Outgoing   314 non-null    object \n",
      " 5   Queue                  314 non-null    object \n",
      " 6   Rep ID                 314 non-null    object \n",
      " 7   Sale                   314 non-null    object \n",
      " 8   Lost Call              314 non-null    int64  \n",
      " 9   Abandoned              314 non-null    int64  \n",
      " 10  Busy Minutes           314 non-null    int64  \n",
      " 11  Not Ready Minutes      314 non-null    int64  \n",
      " 12  Incoming Wait Time     126 non-null    float64\n",
      " 13  During Call Wait Time  314 non-null    int64  \n",
      " 14  Calls                  314 non-null    int64  \n",
      "dtypes: float64(1), int64(7), object(7)\n",
      "memory usage: 36.9+ KB\n"
     ]
    }
   ],
   "source": [
    "south_df.info()"
   ]
  },
  {
   "cell_type": "code",
   "execution_count": 5,
   "id": "73221c9f",
   "metadata": {},
   "outputs": [
    {
     "data": {
      "text/html": [
       "<div>\n",
       "<style scoped>\n",
       "    .dataframe tbody tr th:only-of-type {\n",
       "        vertical-align: middle;\n",
       "    }\n",
       "\n",
       "    .dataframe tbody tr th {\n",
       "        vertical-align: top;\n",
       "    }\n",
       "\n",
       "    .dataframe thead th {\n",
       "        text-align: right;\n",
       "    }\n",
       "</style>\n",
       "<table border=\"1\" class=\"dataframe\">\n",
       "  <thead>\n",
       "    <tr style=\"text-align: right;\">\n",
       "      <th></th>\n",
       "      <th>Unnamed: 0</th>\n",
       "      <th>Branch</th>\n",
       "      <th>Call Purpose</th>\n",
       "      <th>Time Block</th>\n",
       "      <th>Incoming or Outgoing</th>\n",
       "      <th>Queue</th>\n",
       "      <th>Rep ID</th>\n",
       "      <th>Sale</th>\n",
       "      <th>Lost Call</th>\n",
       "      <th>Abandoned</th>\n",
       "      <th>Busy Minutes</th>\n",
       "      <th>Not Ready Minutes</th>\n",
       "      <th>Incoming Wait Time</th>\n",
       "      <th>During Call Wait Time</th>\n",
       "      <th>Calls</th>\n",
       "    </tr>\n",
       "  </thead>\n",
       "  <tbody>\n",
       "    <tr>\n",
       "      <th>0</th>\n",
       "      <td>0</td>\n",
       "      <td>North</td>\n",
       "      <td>Complaint</td>\n",
       "      <td>9:00 AM</td>\n",
       "      <td>Incoming</td>\n",
       "      <td>B</td>\n",
       "      <td>Brent</td>\n",
       "      <td>NO</td>\n",
       "      <td>0</td>\n",
       "      <td>1</td>\n",
       "      <td>9</td>\n",
       "      <td>2</td>\n",
       "      <td>1.0</td>\n",
       "      <td>4</td>\n",
       "      <td>1</td>\n",
       "    </tr>\n",
       "    <tr>\n",
       "      <th>1</th>\n",
       "      <td>1</td>\n",
       "      <td>North</td>\n",
       "      <td>Sales Support</td>\n",
       "      <td>11:00 AM</td>\n",
       "      <td>Incoming</td>\n",
       "      <td>A</td>\n",
       "      <td>Cam</td>\n",
       "      <td>NO</td>\n",
       "      <td>0</td>\n",
       "      <td>0</td>\n",
       "      <td>11</td>\n",
       "      <td>1</td>\n",
       "      <td>1.0</td>\n",
       "      <td>3</td>\n",
       "      <td>1</td>\n",
       "    </tr>\n",
       "    <tr>\n",
       "      <th>2</th>\n",
       "      <td>2</td>\n",
       "      <td>North</td>\n",
       "      <td>Sales Support</td>\n",
       "      <td>11:00 AM</td>\n",
       "      <td>Incoming</td>\n",
       "      <td>B</td>\n",
       "      <td>Todd</td>\n",
       "      <td>NO</td>\n",
       "      <td>0</td>\n",
       "      <td>0</td>\n",
       "      <td>9</td>\n",
       "      <td>3</td>\n",
       "      <td>1.0</td>\n",
       "      <td>3</td>\n",
       "      <td>1</td>\n",
       "    </tr>\n",
       "    <tr>\n",
       "      <th>3</th>\n",
       "      <td>3</td>\n",
       "      <td>North</td>\n",
       "      <td>Sales Support</td>\n",
       "      <td>4:00 PM</td>\n",
       "      <td>Incoming</td>\n",
       "      <td>B</td>\n",
       "      <td>Brent</td>\n",
       "      <td>NO</td>\n",
       "      <td>0</td>\n",
       "      <td>0</td>\n",
       "      <td>11</td>\n",
       "      <td>2</td>\n",
       "      <td>1.0</td>\n",
       "      <td>4</td>\n",
       "      <td>1</td>\n",
       "    </tr>\n",
       "    <tr>\n",
       "      <th>4</th>\n",
       "      <td>4</td>\n",
       "      <td>North</td>\n",
       "      <td>Product Support</td>\n",
       "      <td>12:00 PM</td>\n",
       "      <td>Incoming</td>\n",
       "      <td>B</td>\n",
       "      <td>Brent</td>\n",
       "      <td>NO</td>\n",
       "      <td>0</td>\n",
       "      <td>0</td>\n",
       "      <td>8</td>\n",
       "      <td>2</td>\n",
       "      <td>1.0</td>\n",
       "      <td>4</td>\n",
       "      <td>1</td>\n",
       "    </tr>\n",
       "  </tbody>\n",
       "</table>\n",
       "</div>"
      ],
      "text/plain": [
       "   Unnamed: 0 Branch     Call Purpose Time Block Incoming or Outgoing Queue  \\\n",
       "0           0  North        Complaint    9:00 AM             Incoming     B   \n",
       "1           1  North    Sales Support   11:00 AM             Incoming     A   \n",
       "2           2  North    Sales Support   11:00 AM             Incoming     B   \n",
       "3           3  North    Sales Support    4:00 PM             Incoming     B   \n",
       "4           4  North  Product Support   12:00 PM             Incoming     B   \n",
       "\n",
       "  Rep ID Sale  Lost Call  Abandoned  Busy Minutes  Not Ready Minutes  \\\n",
       "0  Brent   NO          0          1             9                  2   \n",
       "1    Cam   NO          0          0            11                  1   \n",
       "2   Todd   NO          0          0             9                  3   \n",
       "3  Brent   NO          0          0            11                  2   \n",
       "4  Brent   NO          0          0             8                  2   \n",
       "\n",
       "   Incoming Wait Time  During Call Wait Time  Calls  \n",
       "0                 1.0                      4      1  \n",
       "1                 1.0                      3      1  \n",
       "2                 1.0                      3      1  \n",
       "3                 1.0                      4      1  \n",
       "4                 1.0                      4      1  "
      ]
     },
     "execution_count": 5,
     "metadata": {},
     "output_type": "execute_result"
    }
   ],
   "source": [
    "north_df.head()"
   ]
  },
  {
   "cell_type": "code",
   "execution_count": 6,
   "id": "3d287ecb",
   "metadata": {},
   "outputs": [
    {
     "data": {
      "text/html": [
       "<div>\n",
       "<style scoped>\n",
       "    .dataframe tbody tr th:only-of-type {\n",
       "        vertical-align: middle;\n",
       "    }\n",
       "\n",
       "    .dataframe tbody tr th {\n",
       "        vertical-align: top;\n",
       "    }\n",
       "\n",
       "    .dataframe thead th {\n",
       "        text-align: right;\n",
       "    }\n",
       "</style>\n",
       "<table border=\"1\" class=\"dataframe\">\n",
       "  <thead>\n",
       "    <tr style=\"text-align: right;\">\n",
       "      <th></th>\n",
       "      <th>Unnamed: 0</th>\n",
       "      <th>Branch</th>\n",
       "      <th>Call Purpose</th>\n",
       "      <th>Time Block</th>\n",
       "      <th>Incoming or Outgoing</th>\n",
       "      <th>Queue</th>\n",
       "      <th>Rep ID</th>\n",
       "      <th>Sale</th>\n",
       "      <th>Lost Call</th>\n",
       "      <th>Abandoned</th>\n",
       "      <th>Busy Minutes</th>\n",
       "      <th>Not Ready Minutes</th>\n",
       "      <th>Incoming Wait Time</th>\n",
       "      <th>During Call Wait Time</th>\n",
       "      <th>Calls</th>\n",
       "    </tr>\n",
       "  </thead>\n",
       "  <tbody>\n",
       "    <tr>\n",
       "      <th>0</th>\n",
       "      <td>0</td>\n",
       "      <td>South</td>\n",
       "      <td>Sales Support</td>\n",
       "      <td>10:00 AM</td>\n",
       "      <td>Incoming</td>\n",
       "      <td>D</td>\n",
       "      <td>Kate</td>\n",
       "      <td>NO</td>\n",
       "      <td>0</td>\n",
       "      <td>0</td>\n",
       "      <td>9</td>\n",
       "      <td>1</td>\n",
       "      <td>1.0</td>\n",
       "      <td>2</td>\n",
       "      <td>1</td>\n",
       "    </tr>\n",
       "    <tr>\n",
       "      <th>1</th>\n",
       "      <td>1</td>\n",
       "      <td>South</td>\n",
       "      <td>Sales Support</td>\n",
       "      <td>10:00 AM</td>\n",
       "      <td>Incoming</td>\n",
       "      <td>C</td>\n",
       "      <td>Eric</td>\n",
       "      <td>NO</td>\n",
       "      <td>0</td>\n",
       "      <td>0</td>\n",
       "      <td>8</td>\n",
       "      <td>2</td>\n",
       "      <td>1.0</td>\n",
       "      <td>4</td>\n",
       "      <td>1</td>\n",
       "    </tr>\n",
       "    <tr>\n",
       "      <th>2</th>\n",
       "      <td>2</td>\n",
       "      <td>South</td>\n",
       "      <td>Sales Support</td>\n",
       "      <td>10:00 AM</td>\n",
       "      <td>Incoming</td>\n",
       "      <td>C</td>\n",
       "      <td>Susan</td>\n",
       "      <td>NO</td>\n",
       "      <td>0</td>\n",
       "      <td>0</td>\n",
       "      <td>10</td>\n",
       "      <td>2</td>\n",
       "      <td>1.0</td>\n",
       "      <td>4</td>\n",
       "      <td>1</td>\n",
       "    </tr>\n",
       "    <tr>\n",
       "      <th>3</th>\n",
       "      <td>3</td>\n",
       "      <td>South</td>\n",
       "      <td>Sales Support</td>\n",
       "      <td>10:00 AM</td>\n",
       "      <td>Incoming</td>\n",
       "      <td>C</td>\n",
       "      <td>Alice</td>\n",
       "      <td>NO</td>\n",
       "      <td>0</td>\n",
       "      <td>0</td>\n",
       "      <td>12</td>\n",
       "      <td>1</td>\n",
       "      <td>1.0</td>\n",
       "      <td>3</td>\n",
       "      <td>1</td>\n",
       "    </tr>\n",
       "    <tr>\n",
       "      <th>4</th>\n",
       "      <td>4</td>\n",
       "      <td>South</td>\n",
       "      <td>Sales Support</td>\n",
       "      <td>12:00 PM</td>\n",
       "      <td>Incoming</td>\n",
       "      <td>C</td>\n",
       "      <td>Sandy</td>\n",
       "      <td>NO</td>\n",
       "      <td>0</td>\n",
       "      <td>0</td>\n",
       "      <td>8</td>\n",
       "      <td>3</td>\n",
       "      <td>1.0</td>\n",
       "      <td>3</td>\n",
       "      <td>1</td>\n",
       "    </tr>\n",
       "  </tbody>\n",
       "</table>\n",
       "</div>"
      ],
      "text/plain": [
       "   Unnamed: 0 Branch   Call Purpose Time Block Incoming or Outgoing Queue  \\\n",
       "0           0  South  Sales Support   10:00 AM             Incoming     D   \n",
       "1           1  South  Sales Support   10:00 AM             Incoming     C   \n",
       "2           2  South  Sales Support   10:00 AM             Incoming     C   \n",
       "3           3  South  Sales Support   10:00 AM             Incoming     C   \n",
       "4           4  South  Sales Support   12:00 PM             Incoming     C   \n",
       "\n",
       "  Rep ID Sale  Lost Call  Abandoned  Busy Minutes  Not Ready Minutes  \\\n",
       "0   Kate   NO          0          0             9                  1   \n",
       "1   Eric   NO          0          0             8                  2   \n",
       "2  Susan   NO          0          0            10                  2   \n",
       "3  Alice   NO          0          0            12                  1   \n",
       "4  Sandy   NO          0          0             8                  3   \n",
       "\n",
       "   Incoming Wait Time  During Call Wait Time  Calls  \n",
       "0                 1.0                      2      1  \n",
       "1                 1.0                      4      1  \n",
       "2                 1.0                      4      1  \n",
       "3                 1.0                      3      1  \n",
       "4                 1.0                      3      1  "
      ]
     },
     "execution_count": 6,
     "metadata": {},
     "output_type": "execute_result"
    }
   ],
   "source": [
    "south_df.head()"
   ]
  },
  {
   "cell_type": "code",
   "execution_count": 7,
   "id": "457da917",
   "metadata": {},
   "outputs": [
    {
     "data": {
      "text/html": [
       "<div>\n",
       "<style scoped>\n",
       "    .dataframe tbody tr th:only-of-type {\n",
       "        vertical-align: middle;\n",
       "    }\n",
       "\n",
       "    .dataframe tbody tr th {\n",
       "        vertical-align: top;\n",
       "    }\n",
       "\n",
       "    .dataframe thead th {\n",
       "        text-align: right;\n",
       "    }\n",
       "</style>\n",
       "<table border=\"1\" class=\"dataframe\">\n",
       "  <thead>\n",
       "    <tr style=\"text-align: right;\">\n",
       "      <th></th>\n",
       "      <th>Unnamed: 0</th>\n",
       "      <th>Lost Call</th>\n",
       "      <th>Abandoned</th>\n",
       "      <th>Busy Minutes</th>\n",
       "      <th>Not Ready Minutes</th>\n",
       "      <th>Incoming Wait Time</th>\n",
       "      <th>During Call Wait Time</th>\n",
       "      <th>Calls</th>\n",
       "    </tr>\n",
       "  </thead>\n",
       "  <tbody>\n",
       "    <tr>\n",
       "      <th>count</th>\n",
       "      <td>245.000000</td>\n",
       "      <td>245.000000</td>\n",
       "      <td>245.000000</td>\n",
       "      <td>245.000000</td>\n",
       "      <td>245.000000</td>\n",
       "      <td>82.000000</td>\n",
       "      <td>245.000000</td>\n",
       "      <td>245.0</td>\n",
       "    </tr>\n",
       "    <tr>\n",
       "      <th>mean</th>\n",
       "      <td>122.000000</td>\n",
       "      <td>0.020408</td>\n",
       "      <td>0.028571</td>\n",
       "      <td>9.987755</td>\n",
       "      <td>1.914286</td>\n",
       "      <td>3.048780</td>\n",
       "      <td>2.967347</td>\n",
       "      <td>1.0</td>\n",
       "    </tr>\n",
       "    <tr>\n",
       "      <th>std</th>\n",
       "      <td>70.869599</td>\n",
       "      <td>0.141681</td>\n",
       "      <td>0.166940</td>\n",
       "      <td>1.403980</td>\n",
       "      <td>0.771416</td>\n",
       "      <td>1.456382</td>\n",
       "      <td>0.843827</td>\n",
       "      <td>0.0</td>\n",
       "    </tr>\n",
       "    <tr>\n",
       "      <th>min</th>\n",
       "      <td>0.000000</td>\n",
       "      <td>0.000000</td>\n",
       "      <td>0.000000</td>\n",
       "      <td>8.000000</td>\n",
       "      <td>1.000000</td>\n",
       "      <td>1.000000</td>\n",
       "      <td>2.000000</td>\n",
       "      <td>1.0</td>\n",
       "    </tr>\n",
       "    <tr>\n",
       "      <th>25%</th>\n",
       "      <td>61.000000</td>\n",
       "      <td>0.000000</td>\n",
       "      <td>0.000000</td>\n",
       "      <td>9.000000</td>\n",
       "      <td>1.000000</td>\n",
       "      <td>2.000000</td>\n",
       "      <td>2.000000</td>\n",
       "      <td>1.0</td>\n",
       "    </tr>\n",
       "    <tr>\n",
       "      <th>50%</th>\n",
       "      <td>122.000000</td>\n",
       "      <td>0.000000</td>\n",
       "      <td>0.000000</td>\n",
       "      <td>10.000000</td>\n",
       "      <td>2.000000</td>\n",
       "      <td>3.000000</td>\n",
       "      <td>3.000000</td>\n",
       "      <td>1.0</td>\n",
       "    </tr>\n",
       "    <tr>\n",
       "      <th>75%</th>\n",
       "      <td>183.000000</td>\n",
       "      <td>0.000000</td>\n",
       "      <td>0.000000</td>\n",
       "      <td>11.000000</td>\n",
       "      <td>3.000000</td>\n",
       "      <td>4.000000</td>\n",
       "      <td>4.000000</td>\n",
       "      <td>1.0</td>\n",
       "    </tr>\n",
       "    <tr>\n",
       "      <th>max</th>\n",
       "      <td>244.000000</td>\n",
       "      <td>1.000000</td>\n",
       "      <td>1.000000</td>\n",
       "      <td>12.000000</td>\n",
       "      <td>3.000000</td>\n",
       "      <td>5.000000</td>\n",
       "      <td>4.000000</td>\n",
       "      <td>1.0</td>\n",
       "    </tr>\n",
       "  </tbody>\n",
       "</table>\n",
       "</div>"
      ],
      "text/plain": [
       "       Unnamed: 0   Lost Call   Abandoned  Busy Minutes  Not Ready Minutes  \\\n",
       "count  245.000000  245.000000  245.000000    245.000000         245.000000   \n",
       "mean   122.000000    0.020408    0.028571      9.987755           1.914286   \n",
       "std     70.869599    0.141681    0.166940      1.403980           0.771416   \n",
       "min      0.000000    0.000000    0.000000      8.000000           1.000000   \n",
       "25%     61.000000    0.000000    0.000000      9.000000           1.000000   \n",
       "50%    122.000000    0.000000    0.000000     10.000000           2.000000   \n",
       "75%    183.000000    0.000000    0.000000     11.000000           3.000000   \n",
       "max    244.000000    1.000000    1.000000     12.000000           3.000000   \n",
       "\n",
       "       Incoming Wait Time  During Call Wait Time  Calls  \n",
       "count           82.000000             245.000000  245.0  \n",
       "mean             3.048780               2.967347    1.0  \n",
       "std              1.456382               0.843827    0.0  \n",
       "min              1.000000               2.000000    1.0  \n",
       "25%              2.000000               2.000000    1.0  \n",
       "50%              3.000000               3.000000    1.0  \n",
       "75%              4.000000               4.000000    1.0  \n",
       "max              5.000000               4.000000    1.0  "
      ]
     },
     "execution_count": 7,
     "metadata": {},
     "output_type": "execute_result"
    }
   ],
   "source": [
    "north_df.describe()"
   ]
  },
  {
   "cell_type": "code",
   "execution_count": 8,
   "id": "2724f643",
   "metadata": {},
   "outputs": [
    {
     "data": {
      "text/html": [
       "<div>\n",
       "<style scoped>\n",
       "    .dataframe tbody tr th:only-of-type {\n",
       "        vertical-align: middle;\n",
       "    }\n",
       "\n",
       "    .dataframe tbody tr th {\n",
       "        vertical-align: top;\n",
       "    }\n",
       "\n",
       "    .dataframe thead th {\n",
       "        text-align: right;\n",
       "    }\n",
       "</style>\n",
       "<table border=\"1\" class=\"dataframe\">\n",
       "  <thead>\n",
       "    <tr style=\"text-align: right;\">\n",
       "      <th></th>\n",
       "      <th>Unnamed: 0</th>\n",
       "      <th>Lost Call</th>\n",
       "      <th>Abandoned</th>\n",
       "      <th>Busy Minutes</th>\n",
       "      <th>Not Ready Minutes</th>\n",
       "      <th>Incoming Wait Time</th>\n",
       "      <th>During Call Wait Time</th>\n",
       "      <th>Calls</th>\n",
       "    </tr>\n",
       "  </thead>\n",
       "  <tbody>\n",
       "    <tr>\n",
       "      <th>count</th>\n",
       "      <td>314.000000</td>\n",
       "      <td>314.000000</td>\n",
       "      <td>314.000000</td>\n",
       "      <td>314.00000</td>\n",
       "      <td>314.000000</td>\n",
       "      <td>126.000000</td>\n",
       "      <td>314.000000</td>\n",
       "      <td>314.0</td>\n",
       "    </tr>\n",
       "    <tr>\n",
       "      <th>mean</th>\n",
       "      <td>156.500000</td>\n",
       "      <td>0.035032</td>\n",
       "      <td>0.012739</td>\n",
       "      <td>10.05414</td>\n",
       "      <td>1.910828</td>\n",
       "      <td>3.000000</td>\n",
       "      <td>3.076433</td>\n",
       "      <td>1.0</td>\n",
       "    </tr>\n",
       "    <tr>\n",
       "      <th>std</th>\n",
       "      <td>90.788215</td>\n",
       "      <td>0.184154</td>\n",
       "      <td>0.112324</td>\n",
       "      <td>1.40751</td>\n",
       "      <td>0.860016</td>\n",
       "      <td>1.308434</td>\n",
       "      <td>0.819424</td>\n",
       "      <td>0.0</td>\n",
       "    </tr>\n",
       "    <tr>\n",
       "      <th>min</th>\n",
       "      <td>0.000000</td>\n",
       "      <td>0.000000</td>\n",
       "      <td>0.000000</td>\n",
       "      <td>8.00000</td>\n",
       "      <td>1.000000</td>\n",
       "      <td>1.000000</td>\n",
       "      <td>2.000000</td>\n",
       "      <td>1.0</td>\n",
       "    </tr>\n",
       "    <tr>\n",
       "      <th>25%</th>\n",
       "      <td>78.250000</td>\n",
       "      <td>0.000000</td>\n",
       "      <td>0.000000</td>\n",
       "      <td>9.00000</td>\n",
       "      <td>1.000000</td>\n",
       "      <td>2.000000</td>\n",
       "      <td>2.000000</td>\n",
       "      <td>1.0</td>\n",
       "    </tr>\n",
       "    <tr>\n",
       "      <th>50%</th>\n",
       "      <td>156.500000</td>\n",
       "      <td>0.000000</td>\n",
       "      <td>0.000000</td>\n",
       "      <td>10.00000</td>\n",
       "      <td>2.000000</td>\n",
       "      <td>3.000000</td>\n",
       "      <td>3.000000</td>\n",
       "      <td>1.0</td>\n",
       "    </tr>\n",
       "    <tr>\n",
       "      <th>75%</th>\n",
       "      <td>234.750000</td>\n",
       "      <td>0.000000</td>\n",
       "      <td>0.000000</td>\n",
       "      <td>11.00000</td>\n",
       "      <td>3.000000</td>\n",
       "      <td>4.000000</td>\n",
       "      <td>4.000000</td>\n",
       "      <td>1.0</td>\n",
       "    </tr>\n",
       "    <tr>\n",
       "      <th>max</th>\n",
       "      <td>313.000000</td>\n",
       "      <td>1.000000</td>\n",
       "      <td>1.000000</td>\n",
       "      <td>12.00000</td>\n",
       "      <td>3.000000</td>\n",
       "      <td>5.000000</td>\n",
       "      <td>4.000000</td>\n",
       "      <td>1.0</td>\n",
       "    </tr>\n",
       "  </tbody>\n",
       "</table>\n",
       "</div>"
      ],
      "text/plain": [
       "       Unnamed: 0   Lost Call   Abandoned  Busy Minutes  Not Ready Minutes  \\\n",
       "count  314.000000  314.000000  314.000000     314.00000         314.000000   \n",
       "mean   156.500000    0.035032    0.012739      10.05414           1.910828   \n",
       "std     90.788215    0.184154    0.112324       1.40751           0.860016   \n",
       "min      0.000000    0.000000    0.000000       8.00000           1.000000   \n",
       "25%     78.250000    0.000000    0.000000       9.00000           1.000000   \n",
       "50%    156.500000    0.000000    0.000000      10.00000           2.000000   \n",
       "75%    234.750000    0.000000    0.000000      11.00000           3.000000   \n",
       "max    313.000000    1.000000    1.000000      12.00000           3.000000   \n",
       "\n",
       "       Incoming Wait Time  During Call Wait Time  Calls  \n",
       "count          126.000000             314.000000  314.0  \n",
       "mean             3.000000               3.076433    1.0  \n",
       "std              1.308434               0.819424    0.0  \n",
       "min              1.000000               2.000000    1.0  \n",
       "25%              2.000000               2.000000    1.0  \n",
       "50%              3.000000               3.000000    1.0  \n",
       "75%              4.000000               4.000000    1.0  \n",
       "max              5.000000               4.000000    1.0  "
      ]
     },
     "execution_count": 8,
     "metadata": {},
     "output_type": "execute_result"
    }
   ],
   "source": [
    "south_df.describe()"
   ]
  },
  {
   "cell_type": "markdown",
   "id": "37f77cd4",
   "metadata": {},
   "source": [
    "<span style=\"background-color:orangered; color:orangered;\">- - - - - - - - - - - - - - - - - - - - - - - - - - - - - - - - - - - - - - - - - - - - - - - - - - - - - - - - - - - - - - - - - - - - - - - - - - - - - - - - - - - - - - - - -</span>"
   ]
  },
  {
   "cell_type": "markdown",
   "id": "b4d3484b",
   "metadata": {},
   "source": [
    "## Exploratory Data Analysis\n",
    "\n",
    "Time to do some EDA! In the process of learning more about the two datasets, answer the following questions. In the code blocks below enter the code used to solve the question.  At the end of the section record your answers by double clicking where asked."
   ]
  },
  {
   "cell_type": "markdown",
   "id": "76898991",
   "metadata": {},
   "source": [
    "#### EDA Question 1A:  How many reps are in the North branch?  "
   ]
  },
  {
   "cell_type": "code",
   "execution_count": 9,
   "id": "ce3eb5e4",
   "metadata": {},
   "outputs": [
    {
     "data": {
      "text/plain": [
       "9"
      ]
     },
     "execution_count": 9,
     "metadata": {},
     "output_type": "execute_result"
    }
   ],
   "source": [
    "#Code Used:\n",
    "num_reps_north = len(north_df['Rep ID'].unique())\n",
    "num_reps_north"
   ]
  },
  {
   "cell_type": "markdown",
   "id": "2a9b34d8",
   "metadata": {},
   "source": [
    "#### EDA Question 1B:  How many reps are in the South branch?  "
   ]
  },
  {
   "cell_type": "code",
   "execution_count": 10,
   "id": "3c715bbf",
   "metadata": {},
   "outputs": [
    {
     "data": {
      "text/plain": [
       "11"
      ]
     },
     "execution_count": 10,
     "metadata": {},
     "output_type": "execute_result"
    }
   ],
   "source": [
    "#Code Used:\n",
    "num_reps_south = len(south_df['Rep ID'].unique())\n",
    "num_reps_south"
   ]
  },
  {
   "cell_type": "markdown",
   "id": "a872f045",
   "metadata": {},
   "source": [
    "#### EDA Question 2A:  What is the average busy minutes, not ready minutes, incoming wait time, and during call wait time for the North branch? "
   ]
  },
  {
   "cell_type": "code",
   "execution_count": 11,
   "id": "3759305f",
   "metadata": {},
   "outputs": [
    {
     "data": {
      "text/plain": [
       "Busy Minutes             9.987755\n",
       "Not Ready Minutes        1.914286\n",
       "Incoming Wait Time       3.048780\n",
       "During Call Wait Time    2.967347\n",
       "dtype: float64"
      ]
     },
     "execution_count": 11,
     "metadata": {},
     "output_type": "execute_result"
    }
   ],
   "source": [
    "#Code Used:\n",
    "north_df[['Busy Minutes', 'Not Ready Minutes','Incoming Wait Time', 'During Call Wait Time']].mean()\n"
   ]
  },
  {
   "cell_type": "markdown",
   "id": "3851cf3e",
   "metadata": {},
   "source": [
    "#### EDA Question 2B:  What is the average busy minutes, not ready minutes, incoming wait time, and during call wait time for the South branch? "
   ]
  },
  {
   "cell_type": "code",
   "execution_count": 12,
   "id": "a77ec152",
   "metadata": {},
   "outputs": [
    {
     "data": {
      "text/plain": [
       "Busy Minutes             10.054140\n",
       "Not Ready Minutes         1.910828\n",
       "Incoming Wait Time        3.000000\n",
       "During Call Wait Time     3.076433\n",
       "dtype: float64"
      ]
     },
     "execution_count": 12,
     "metadata": {},
     "output_type": "execute_result"
    }
   ],
   "source": [
    "#Code Used:\n",
    "south_df[['Busy Minutes', 'Not Ready Minutes','Incoming Wait Time', 'During Call Wait Time']].mean()\n"
   ]
  },
  {
   "cell_type": "markdown",
   "id": "75915553",
   "metadata": {},
   "source": [
    "#### EDA Question 3:  What is the number of calls taken for each time block(Both North and South combined)?"
   ]
  },
  {
   "cell_type": "code",
   "execution_count": 13,
   "id": "49566936",
   "metadata": {},
   "outputs": [
    {
     "data": {
      "text/plain": [
       "Time Block\n",
       "10:00 AM     99\n",
       "11:00 AM     56\n",
       "12:00 PM    120\n",
       "1:00 PM      40\n",
       "2:00 PM      65\n",
       "3:00 PM      73\n",
       "4:00 PM      53\n",
       "5:00 PM      43\n",
       "9:00 AM      10\n",
       "Name: Calls, dtype: int64"
      ]
     },
     "execution_count": 13,
     "metadata": {},
     "output_type": "execute_result"
    }
   ],
   "source": [
    "# Code Used:\n",
    "data= [north_df, south_df]\n",
    "df = pd.concat(data)\n",
    "calls_per_time_block = df.groupby('Time Block')['Calls'].sum()\n",
    "calls_per_time_block"
   ]
  },
  {
   "cell_type": "markdown",
   "id": "40b1fd3f",
   "metadata": {},
   "source": [
    "##### Record your answers for the EDA section by double clicking here:\n",
    "- 1a) Reps in the North Branch = 9\n",
    "- 1b) Reps in the South Branch = 11\n",
    "\n",
    "\n",
    "- 2a) North Branch, (round to the nearest hundredth):\n",
    "> - Busy Minutes = 9.99\n",
    "> - Not Ready Minutes = 1.91\n",
    "> - Incoming Wait Time = 3.05\n",
    "> - During Call Wait Time = 2.97\n",
    "- 2b) South Branch, (round to the nearest hundredth):\n",
    "> - Busy Minutes = 10.05\n",
    "> - Not Ready Minutes = 1.91\n",
    "> - Incoming Wait Time = 3.00\n",
    "> - During Call Wait Time = 3.08\n",
    "- 3) Total Calls taken for all branches per time block:\n",
    "> - 9:00AM   = 10\n",
    "> - 10:00AM  = 99\n",
    "> - 11:00AM  = 56\n",
    "> - 12:00PM  = 120\n",
    "> - 1:00PM   = 40\n",
    "> - 2:00PM   = 65\n",
    "> - 3:00PM   = 73\n",
    "> - 4:00PM   = 53\n",
    "> - 5:00PM   = 43\n",
    "\n"
   ]
  },
  {
   "cell_type": "markdown",
   "id": "446048d3",
   "metadata": {},
   "source": [
    "<span style=\"background-color:orangered; color:orangered;\">- - - - - - - - - - - - - - - - - - - - - - - - - - - - - - - - - - - - - - - - - - - - - - - - - - - - - - - - - - - - - - - - - - - - - - - - - - - - - - - - - - - - - - - - -</span>"
   ]
  },
  {
   "cell_type": "markdown",
   "id": "366bfb19",
   "metadata": {},
   "source": [
    "## Cleaning Your Data \n",
    "Now you need to clean up the datasets. When cleaning the datasets, you may find that there isn't dirty data to clean. That is okay! Some questions you need to answer about the data sets.\n",
    "* Add additional code blocks as needed to show how you came to your conclusions. Add comments in your code blocks to help others understand your thinking. "
   ]
  },
  {
   "cell_type": "markdown",
   "id": "c3564d69",
   "metadata": {},
   "source": [
    "#### Cleaning Question 1:  Is there any missing data and if yes explain what you would do with the missing data and why?\n",
    "##### Record your answer by double clicking here:\n",
    "> Your Answer: Yes there are null values in \"Incoming Wait Time\" column. The null values are filled with mean waiting time."
   ]
  },
  {
   "cell_type": "code",
   "execution_count": 14,
   "id": "b77fb574",
   "metadata": {},
   "outputs": [
    {
     "name": "stdout",
     "output_type": "stream",
     "text": [
      "Unnamed: 0 - 0%\n",
      "Branch - 0%\n",
      "Call Purpose - 0%\n",
      "Time Block - 0%\n",
      "Incoming or Outgoing - 0%\n",
      "Queue - 0%\n",
      "Rep ID - 0%\n",
      "Sale - 0%\n",
      "Lost Call - 0%\n",
      "Abandoned - 0%\n",
      "Busy Minutes - 0%\n",
      "Not Ready Minutes - 0%\n",
      "Incoming Wait Time - 67%\n",
      "During Call Wait Time - 0%\n",
      "Calls - 0%\n"
     ]
    }
   ],
   "source": [
    "# Code Used\n",
    "for col in north_df.columns:\n",
    "    pct_missing = np.mean(north_df[col].isnull())\n",
    "    print('{} - {}%'.format(col,round(pct_missing*100)))\n",
    "# Add Additional Cells as needed.\n"
   ]
  },
  {
   "cell_type": "code",
   "execution_count": 15,
   "id": "5cbf9ec4",
   "metadata": {},
   "outputs": [
    {
     "name": "stdout",
     "output_type": "stream",
     "text": [
      "3.0\n"
     ]
    },
    {
     "data": {
      "text/plain": [
       "0      1.0\n",
       "1      1.0\n",
       "2      1.0\n",
       "3      1.0\n",
       "4      1.0\n",
       "      ... \n",
       "240    3.0\n",
       "241    3.0\n",
       "242    3.0\n",
       "243    3.0\n",
       "244    3.0\n",
       "Name: Incoming Wait Time, Length: 245, dtype: float64"
      ]
     },
     "execution_count": 15,
     "metadata": {},
     "output_type": "execute_result"
    }
   ],
   "source": [
    "med = north_df['Incoming Wait Time'].median()\n",
    "print(med)\n",
    "north_df['Incoming Wait Time'] = north_df['Incoming Wait Time'].fillna(med)\n",
    "north_df['Incoming Wait Time'] "
   ]
  },
  {
   "cell_type": "markdown",
   "id": "dc47f020",
   "metadata": {},
   "source": [
    "#### Cleaning Question 2:  In the North data set, there are two separate \"YES\" values for a sale. Why and how did you rectify the issue?\n",
    "##### Record your answer by double clicking here:\n",
    "> Your Answer: I couldn't see two different YES in the column 'sale'. Anyways this column is not used for analysis so dropped the same."
   ]
  },
  {
   "cell_type": "code",
   "execution_count": 16,
   "id": "4e0fbad6",
   "metadata": {},
   "outputs": [
    {
     "data": {
      "text/html": [
       "<div>\n",
       "<style scoped>\n",
       "    .dataframe tbody tr th:only-of-type {\n",
       "        vertical-align: middle;\n",
       "    }\n",
       "\n",
       "    .dataframe tbody tr th {\n",
       "        vertical-align: top;\n",
       "    }\n",
       "\n",
       "    .dataframe thead th {\n",
       "        text-align: right;\n",
       "    }\n",
       "</style>\n",
       "<table border=\"1\" class=\"dataframe\">\n",
       "  <thead>\n",
       "    <tr style=\"text-align: right;\">\n",
       "      <th></th>\n",
       "      <th>Branch</th>\n",
       "      <th>Call Purpose</th>\n",
       "      <th>Time Block</th>\n",
       "      <th>Incoming or Outgoing</th>\n",
       "      <th>Queue</th>\n",
       "      <th>Rep ID</th>\n",
       "      <th>Abandoned</th>\n",
       "      <th>Busy Minutes</th>\n",
       "      <th>Not Ready Minutes</th>\n",
       "      <th>Incoming Wait Time</th>\n",
       "      <th>During Call Wait Time</th>\n",
       "      <th>Calls</th>\n",
       "    </tr>\n",
       "  </thead>\n",
       "  <tbody>\n",
       "    <tr>\n",
       "      <th>0</th>\n",
       "      <td>North</td>\n",
       "      <td>Complaint</td>\n",
       "      <td>9:00 AM</td>\n",
       "      <td>Incoming</td>\n",
       "      <td>B</td>\n",
       "      <td>Brent</td>\n",
       "      <td>1</td>\n",
       "      <td>9</td>\n",
       "      <td>2</td>\n",
       "      <td>1.0</td>\n",
       "      <td>4</td>\n",
       "      <td>1</td>\n",
       "    </tr>\n",
       "    <tr>\n",
       "      <th>1</th>\n",
       "      <td>North</td>\n",
       "      <td>Sales Support</td>\n",
       "      <td>11:00 AM</td>\n",
       "      <td>Incoming</td>\n",
       "      <td>A</td>\n",
       "      <td>Cam</td>\n",
       "      <td>0</td>\n",
       "      <td>11</td>\n",
       "      <td>1</td>\n",
       "      <td>1.0</td>\n",
       "      <td>3</td>\n",
       "      <td>1</td>\n",
       "    </tr>\n",
       "    <tr>\n",
       "      <th>2</th>\n",
       "      <td>North</td>\n",
       "      <td>Sales Support</td>\n",
       "      <td>11:00 AM</td>\n",
       "      <td>Incoming</td>\n",
       "      <td>B</td>\n",
       "      <td>Todd</td>\n",
       "      <td>0</td>\n",
       "      <td>9</td>\n",
       "      <td>3</td>\n",
       "      <td>1.0</td>\n",
       "      <td>3</td>\n",
       "      <td>1</td>\n",
       "    </tr>\n",
       "    <tr>\n",
       "      <th>3</th>\n",
       "      <td>North</td>\n",
       "      <td>Sales Support</td>\n",
       "      <td>4:00 PM</td>\n",
       "      <td>Incoming</td>\n",
       "      <td>B</td>\n",
       "      <td>Brent</td>\n",
       "      <td>0</td>\n",
       "      <td>11</td>\n",
       "      <td>2</td>\n",
       "      <td>1.0</td>\n",
       "      <td>4</td>\n",
       "      <td>1</td>\n",
       "    </tr>\n",
       "    <tr>\n",
       "      <th>4</th>\n",
       "      <td>North</td>\n",
       "      <td>Product Support</td>\n",
       "      <td>12:00 PM</td>\n",
       "      <td>Incoming</td>\n",
       "      <td>B</td>\n",
       "      <td>Brent</td>\n",
       "      <td>0</td>\n",
       "      <td>8</td>\n",
       "      <td>2</td>\n",
       "      <td>1.0</td>\n",
       "      <td>4</td>\n",
       "      <td>1</td>\n",
       "    </tr>\n",
       "  </tbody>\n",
       "</table>\n",
       "</div>"
      ],
      "text/plain": [
       "  Branch     Call Purpose Time Block Incoming or Outgoing Queue Rep ID  \\\n",
       "0  North        Complaint    9:00 AM             Incoming     B  Brent   \n",
       "1  North    Sales Support   11:00 AM             Incoming     A    Cam   \n",
       "2  North    Sales Support   11:00 AM             Incoming     B   Todd   \n",
       "3  North    Sales Support    4:00 PM             Incoming     B  Brent   \n",
       "4  North  Product Support   12:00 PM             Incoming     B  Brent   \n",
       "\n",
       "   Abandoned  Busy Minutes  Not Ready Minutes  Incoming Wait Time  \\\n",
       "0          1             9                  2                 1.0   \n",
       "1          0            11                  1                 1.0   \n",
       "2          0             9                  3                 1.0   \n",
       "3          0            11                  2                 1.0   \n",
       "4          0             8                  2                 1.0   \n",
       "\n",
       "   During Call Wait Time  Calls  \n",
       "0                      4      1  \n",
       "1                      3      1  \n",
       "2                      3      1  \n",
       "3                      4      1  \n",
       "4                      4      1  "
      ]
     },
     "execution_count": 16,
     "metadata": {},
     "output_type": "execute_result"
    }
   ],
   "source": [
    "#Code Used\n",
    "ndf = north_df.drop(['Lost Call', 'Sale', 'Unnamed: 0'], axis=1)\n",
    "ndf.head()\n",
    "# Add Additional Cells as needed.\n"
   ]
  },
  {
   "cell_type": "code",
   "execution_count": 17,
   "id": "cf08f696",
   "metadata": {},
   "outputs": [
    {
     "data": {
      "text/html": [
       "<div>\n",
       "<style scoped>\n",
       "    .dataframe tbody tr th:only-of-type {\n",
       "        vertical-align: middle;\n",
       "    }\n",
       "\n",
       "    .dataframe tbody tr th {\n",
       "        vertical-align: top;\n",
       "    }\n",
       "\n",
       "    .dataframe thead th {\n",
       "        text-align: right;\n",
       "    }\n",
       "</style>\n",
       "<table border=\"1\" class=\"dataframe\">\n",
       "  <thead>\n",
       "    <tr style=\"text-align: right;\">\n",
       "      <th></th>\n",
       "      <th>Unnamed: 0</th>\n",
       "      <th>Branch</th>\n",
       "      <th>Call Purpose</th>\n",
       "      <th>Time Block</th>\n",
       "      <th>Incoming or Outgoing</th>\n",
       "      <th>Queue</th>\n",
       "      <th>Rep ID</th>\n",
       "      <th>Sale</th>\n",
       "      <th>Lost Call</th>\n",
       "      <th>Abandoned</th>\n",
       "      <th>Busy Minutes</th>\n",
       "      <th>Not Ready Minutes</th>\n",
       "      <th>Incoming Wait Time</th>\n",
       "      <th>During Call Wait Time</th>\n",
       "      <th>Calls</th>\n",
       "    </tr>\n",
       "  </thead>\n",
       "  <tbody>\n",
       "    <tr>\n",
       "      <th>0</th>\n",
       "      <td>0</td>\n",
       "      <td>South</td>\n",
       "      <td>Sales Support</td>\n",
       "      <td>10:00 AM</td>\n",
       "      <td>Incoming</td>\n",
       "      <td>D</td>\n",
       "      <td>Kate</td>\n",
       "      <td>NO</td>\n",
       "      <td>0</td>\n",
       "      <td>0</td>\n",
       "      <td>9</td>\n",
       "      <td>1</td>\n",
       "      <td>1.0</td>\n",
       "      <td>2</td>\n",
       "      <td>1</td>\n",
       "    </tr>\n",
       "    <tr>\n",
       "      <th>1</th>\n",
       "      <td>1</td>\n",
       "      <td>South</td>\n",
       "      <td>Sales Support</td>\n",
       "      <td>10:00 AM</td>\n",
       "      <td>Incoming</td>\n",
       "      <td>C</td>\n",
       "      <td>Eric</td>\n",
       "      <td>NO</td>\n",
       "      <td>0</td>\n",
       "      <td>0</td>\n",
       "      <td>8</td>\n",
       "      <td>2</td>\n",
       "      <td>1.0</td>\n",
       "      <td>4</td>\n",
       "      <td>1</td>\n",
       "    </tr>\n",
       "    <tr>\n",
       "      <th>2</th>\n",
       "      <td>2</td>\n",
       "      <td>South</td>\n",
       "      <td>Sales Support</td>\n",
       "      <td>10:00 AM</td>\n",
       "      <td>Incoming</td>\n",
       "      <td>C</td>\n",
       "      <td>Susan</td>\n",
       "      <td>NO</td>\n",
       "      <td>0</td>\n",
       "      <td>0</td>\n",
       "      <td>10</td>\n",
       "      <td>2</td>\n",
       "      <td>1.0</td>\n",
       "      <td>4</td>\n",
       "      <td>1</td>\n",
       "    </tr>\n",
       "    <tr>\n",
       "      <th>3</th>\n",
       "      <td>3</td>\n",
       "      <td>South</td>\n",
       "      <td>Sales Support</td>\n",
       "      <td>10:00 AM</td>\n",
       "      <td>Incoming</td>\n",
       "      <td>C</td>\n",
       "      <td>Alice</td>\n",
       "      <td>NO</td>\n",
       "      <td>0</td>\n",
       "      <td>0</td>\n",
       "      <td>12</td>\n",
       "      <td>1</td>\n",
       "      <td>1.0</td>\n",
       "      <td>3</td>\n",
       "      <td>1</td>\n",
       "    </tr>\n",
       "    <tr>\n",
       "      <th>4</th>\n",
       "      <td>4</td>\n",
       "      <td>South</td>\n",
       "      <td>Sales Support</td>\n",
       "      <td>12:00 PM</td>\n",
       "      <td>Incoming</td>\n",
       "      <td>C</td>\n",
       "      <td>Sandy</td>\n",
       "      <td>NO</td>\n",
       "      <td>0</td>\n",
       "      <td>0</td>\n",
       "      <td>8</td>\n",
       "      <td>3</td>\n",
       "      <td>1.0</td>\n",
       "      <td>3</td>\n",
       "      <td>1</td>\n",
       "    </tr>\n",
       "  </tbody>\n",
       "</table>\n",
       "</div>"
      ],
      "text/plain": [
       "   Unnamed: 0 Branch   Call Purpose Time Block Incoming or Outgoing Queue  \\\n",
       "0           0  South  Sales Support   10:00 AM             Incoming     D   \n",
       "1           1  South  Sales Support   10:00 AM             Incoming     C   \n",
       "2           2  South  Sales Support   10:00 AM             Incoming     C   \n",
       "3           3  South  Sales Support   10:00 AM             Incoming     C   \n",
       "4           4  South  Sales Support   12:00 PM             Incoming     C   \n",
       "\n",
       "  Rep ID Sale  Lost Call  Abandoned  Busy Minutes  Not Ready Minutes  \\\n",
       "0   Kate   NO          0          0             9                  1   \n",
       "1   Eric   NO          0          0             8                  2   \n",
       "2  Susan   NO          0          0            10                  2   \n",
       "3  Alice   NO          0          0            12                  1   \n",
       "4  Sandy   NO          0          0             8                  3   \n",
       "\n",
       "   Incoming Wait Time  During Call Wait Time  Calls  \n",
       "0                 1.0                      2      1  \n",
       "1                 1.0                      4      1  \n",
       "2                 1.0                      4      1  \n",
       "3                 1.0                      3      1  \n",
       "4                 1.0                      3      1  "
      ]
     },
     "execution_count": 17,
     "metadata": {},
     "output_type": "execute_result"
    }
   ],
   "source": [
    "south_df.head()"
   ]
  },
  {
   "cell_type": "code",
   "execution_count": 18,
   "id": "d660060d",
   "metadata": {},
   "outputs": [
    {
     "data": {
      "text/plain": [
       "<Axes: >"
      ]
     },
     "execution_count": 18,
     "metadata": {},
     "output_type": "execute_result"
    },
    {
     "data": {
      "image/png": "[encoded data removed]",
      "text/plain": [
       "<Figure size 1200x800 with 2 Axes>"
      ]
     },
     "metadata": {},
     "output_type": "display_data"
    }
   ],
   "source": [
    "cols = south_df.columns[:30] \n",
    "colours = ['#000099', '#ffff00'] \n",
    "sns.heatmap(south_df[cols].isnull(), cmap=sns.color_palette(colours))"
   ]
  },
  {
   "cell_type": "markdown",
   "id": "715f375a",
   "metadata": {},
   "source": [
    "#### Cleaning Question 3:  Are there duplicates in the two data sets? If there are, how did you handle them?\n",
    "##### Record your answer by double clicking here:\n",
    "> Your Answer: #Yes there are duplicate values in the rows for each column but they are needed and make sense. So not dropping any duplicate values for this analysis."
   ]
  },
  {
   "cell_type": "code",
   "execution_count": 19,
   "id": "2323673a",
   "metadata": {},
   "outputs": [
    {
     "data": {
      "text/html": [
       "<div>\n",
       "<style scoped>\n",
       "    .dataframe tbody tr th:only-of-type {\n",
       "        vertical-align: middle;\n",
       "    }\n",
       "\n",
       "    .dataframe tbody tr th {\n",
       "        vertical-align: top;\n",
       "    }\n",
       "\n",
       "    .dataframe thead th {\n",
       "        text-align: right;\n",
       "    }\n",
       "</style>\n",
       "<table border=\"1\" class=\"dataframe\">\n",
       "  <thead>\n",
       "    <tr style=\"text-align: right;\">\n",
       "      <th></th>\n",
       "      <th>Unnamed: 0</th>\n",
       "      <th>Branch</th>\n",
       "      <th>Call Purpose</th>\n",
       "      <th>Time Block</th>\n",
       "      <th>Incoming or Outgoing</th>\n",
       "      <th>Queue</th>\n",
       "      <th>Rep ID</th>\n",
       "      <th>Sale</th>\n",
       "      <th>Lost Call</th>\n",
       "      <th>Abandoned</th>\n",
       "      <th>Busy Minutes</th>\n",
       "      <th>Not Ready Minutes</th>\n",
       "      <th>Incoming Wait Time</th>\n",
       "      <th>During Call Wait Time</th>\n",
       "      <th>Calls</th>\n",
       "    </tr>\n",
       "  </thead>\n",
       "  <tbody>\n",
       "  </tbody>\n",
       "</table>\n",
       "</div>"
      ],
      "text/plain": [
       "Empty DataFrame\n",
       "Columns: [Unnamed: 0, Branch, Call Purpose, Time Block, Incoming or Outgoing, Queue, Rep ID, Sale, Lost Call, Abandoned, Busy Minutes, Not Ready Minutes, Incoming Wait Time, During Call Wait Time, Calls]\n",
       "Index: []"
      ]
     },
     "execution_count": 19,
     "metadata": {},
     "output_type": "execute_result"
    }
   ],
   "source": [
    "#Code Used \n",
    "north_df[north_df.duplicated()]\n",
    "south_df[south_df.duplicated()]\n",
    "# Add Additional Cells as needed."
   ]
  },
  {
   "cell_type": "code",
   "execution_count": 20,
   "id": "7669dcc2",
   "metadata": {},
   "outputs": [
    {
     "data": {
      "text/html": [
       "<div>\n",
       "<style scoped>\n",
       "    .dataframe tbody tr th:only-of-type {\n",
       "        vertical-align: middle;\n",
       "    }\n",
       "\n",
       "    .dataframe tbody tr th {\n",
       "        vertical-align: top;\n",
       "    }\n",
       "\n",
       "    .dataframe thead th {\n",
       "        text-align: right;\n",
       "    }\n",
       "</style>\n",
       "<table border=\"1\" class=\"dataframe\">\n",
       "  <thead>\n",
       "    <tr style=\"text-align: right;\">\n",
       "      <th></th>\n",
       "      <th>Branch</th>\n",
       "      <th>Call Purpose</th>\n",
       "      <th>Time Block</th>\n",
       "      <th>Incoming or Outgoing</th>\n",
       "      <th>Queue</th>\n",
       "      <th>Rep ID</th>\n",
       "      <th>Abandoned</th>\n",
       "      <th>Busy Minutes</th>\n",
       "      <th>Not Ready Minutes</th>\n",
       "      <th>Incoming Wait Time</th>\n",
       "      <th>During Call Wait Time</th>\n",
       "      <th>Calls</th>\n",
       "    </tr>\n",
       "  </thead>\n",
       "  <tbody>\n",
       "    <tr>\n",
       "      <th>0</th>\n",
       "      <td>South</td>\n",
       "      <td>Sales Support</td>\n",
       "      <td>10:00 AM</td>\n",
       "      <td>Incoming</td>\n",
       "      <td>D</td>\n",
       "      <td>Kate</td>\n",
       "      <td>0</td>\n",
       "      <td>9</td>\n",
       "      <td>1</td>\n",
       "      <td>1.0</td>\n",
       "      <td>2</td>\n",
       "      <td>1</td>\n",
       "    </tr>\n",
       "    <tr>\n",
       "      <th>1</th>\n",
       "      <td>South</td>\n",
       "      <td>Sales Support</td>\n",
       "      <td>10:00 AM</td>\n",
       "      <td>Incoming</td>\n",
       "      <td>C</td>\n",
       "      <td>Eric</td>\n",
       "      <td>0</td>\n",
       "      <td>8</td>\n",
       "      <td>2</td>\n",
       "      <td>1.0</td>\n",
       "      <td>4</td>\n",
       "      <td>1</td>\n",
       "    </tr>\n",
       "    <tr>\n",
       "      <th>2</th>\n",
       "      <td>South</td>\n",
       "      <td>Sales Support</td>\n",
       "      <td>10:00 AM</td>\n",
       "      <td>Incoming</td>\n",
       "      <td>C</td>\n",
       "      <td>Susan</td>\n",
       "      <td>0</td>\n",
       "      <td>10</td>\n",
       "      <td>2</td>\n",
       "      <td>1.0</td>\n",
       "      <td>4</td>\n",
       "      <td>1</td>\n",
       "    </tr>\n",
       "    <tr>\n",
       "      <th>3</th>\n",
       "      <td>South</td>\n",
       "      <td>Sales Support</td>\n",
       "      <td>10:00 AM</td>\n",
       "      <td>Incoming</td>\n",
       "      <td>C</td>\n",
       "      <td>Alice</td>\n",
       "      <td>0</td>\n",
       "      <td>12</td>\n",
       "      <td>1</td>\n",
       "      <td>1.0</td>\n",
       "      <td>3</td>\n",
       "      <td>1</td>\n",
       "    </tr>\n",
       "    <tr>\n",
       "      <th>4</th>\n",
       "      <td>South</td>\n",
       "      <td>Sales Support</td>\n",
       "      <td>12:00 PM</td>\n",
       "      <td>Incoming</td>\n",
       "      <td>C</td>\n",
       "      <td>Sandy</td>\n",
       "      <td>0</td>\n",
       "      <td>8</td>\n",
       "      <td>3</td>\n",
       "      <td>1.0</td>\n",
       "      <td>3</td>\n",
       "      <td>1</td>\n",
       "    </tr>\n",
       "  </tbody>\n",
       "</table>\n",
       "</div>"
      ],
      "text/plain": [
       "  Branch   Call Purpose Time Block Incoming or Outgoing Queue Rep ID  \\\n",
       "0  South  Sales Support   10:00 AM             Incoming     D   Kate   \n",
       "1  South  Sales Support   10:00 AM             Incoming     C   Eric   \n",
       "2  South  Sales Support   10:00 AM             Incoming     C  Susan   \n",
       "3  South  Sales Support   10:00 AM             Incoming     C  Alice   \n",
       "4  South  Sales Support   12:00 PM             Incoming     C  Sandy   \n",
       "\n",
       "   Abandoned  Busy Minutes  Not Ready Minutes  Incoming Wait Time  \\\n",
       "0          0             9                  1                 1.0   \n",
       "1          0             8                  2                 1.0   \n",
       "2          0            10                  2                 1.0   \n",
       "3          0            12                  1                 1.0   \n",
       "4          0             8                  3                 1.0   \n",
       "\n",
       "   During Call Wait Time  Calls  \n",
       "0                      2      1  \n",
       "1                      4      1  \n",
       "2                      4      1  \n",
       "3                      3      1  \n",
       "4                      3      1  "
      ]
     },
     "execution_count": 20,
     "metadata": {},
     "output_type": "execute_result"
    }
   ],
   "source": [
    "sdf = south_df.drop(['Lost Call', 'Sale', 'Unnamed: 0'], axis=1)\n",
    "sdf.head()"
   ]
  },
  {
   "cell_type": "markdown",
   "id": "8ffaa865",
   "metadata": {},
   "source": [
    "#### Cleaning Question 4:  Is any of the data in the two data sets unnecessary? If yes, how did you handle it?\n",
    "##### Record your answer by double clicking here:\n",
    "> Your Answer: Yes the 'sale', 'Lost call' , 'Unnamed' columns doesn't provide any values to the analysis. So dropped them."
   ]
  },
  {
   "cell_type": "markdown",
   "id": "f67d89ab",
   "metadata": {},
   "source": [
    "<span style=\"background-color:orangered; color:orangered;\">- - - - - - - - - - - - - - - - - - - - - - - - - - - - - - - - - - - - - - - - - - - - - - - - - - - - - - - - - - - - - - - - - - - - - - - - - - - - - - - - - - - - - - - - -</span>"
   ]
  },
  {
   "cell_type": "markdown",
   "id": "73342a9a",
   "metadata": {},
   "source": [
    "## Data Manipulation\n",
    "Before you begin answering any questions, combine the two datasets together to create a third dataframe called df. You can use this third dataframe to compare the two call centers to company-wide trends.\n",
    "* Add additional code blocks as needed to show how you came to your conclusions. Add comments in your code blocks to help others understand your thinking. Record your answer by double clicking the below cell."
   ]
  },
  {
   "cell_type": "code",
   "execution_count": 22,
   "id": "e9705c34",
   "metadata": {},
   "outputs": [
    {
     "data": {
      "text/html": [
       "<div>\n",
       "<style scoped>\n",
       "    .dataframe tbody tr th:only-of-type {\n",
       "        vertical-align: middle;\n",
       "    }\n",
       "\n",
       "    .dataframe tbody tr th {\n",
       "        vertical-align: top;\n",
       "    }\n",
       "\n",
       "    .dataframe thead th {\n",
       "        text-align: right;\n",
       "    }\n",
       "</style>\n",
       "<table border=\"1\" class=\"dataframe\">\n",
       "  <thead>\n",
       "    <tr style=\"text-align: right;\">\n",
       "      <th></th>\n",
       "      <th>Branch</th>\n",
       "      <th>Call Purpose</th>\n",
       "      <th>Time Block</th>\n",
       "      <th>Incoming or Outgoing</th>\n",
       "      <th>Queue</th>\n",
       "      <th>Rep ID</th>\n",
       "      <th>Abandoned</th>\n",
       "      <th>Busy Minutes</th>\n",
       "      <th>Not Ready Minutes</th>\n",
       "      <th>Incoming Wait Time</th>\n",
       "      <th>During Call Wait Time</th>\n",
       "      <th>Calls</th>\n",
       "    </tr>\n",
       "  </thead>\n",
       "  <tbody>\n",
       "    <tr>\n",
       "      <th>0</th>\n",
       "      <td>North</td>\n",
       "      <td>Complaint</td>\n",
       "      <td>9:00 AM</td>\n",
       "      <td>Incoming</td>\n",
       "      <td>B</td>\n",
       "      <td>Brent</td>\n",
       "      <td>1</td>\n",
       "      <td>9</td>\n",
       "      <td>2</td>\n",
       "      <td>1.0</td>\n",
       "      <td>4</td>\n",
       "      <td>1</td>\n",
       "    </tr>\n",
       "    <tr>\n",
       "      <th>1</th>\n",
       "      <td>North</td>\n",
       "      <td>Sales Support</td>\n",
       "      <td>11:00 AM</td>\n",
       "      <td>Incoming</td>\n",
       "      <td>A</td>\n",
       "      <td>Cam</td>\n",
       "      <td>0</td>\n",
       "      <td>11</td>\n",
       "      <td>1</td>\n",
       "      <td>1.0</td>\n",
       "      <td>3</td>\n",
       "      <td>1</td>\n",
       "    </tr>\n",
       "    <tr>\n",
       "      <th>2</th>\n",
       "      <td>North</td>\n",
       "      <td>Sales Support</td>\n",
       "      <td>11:00 AM</td>\n",
       "      <td>Incoming</td>\n",
       "      <td>B</td>\n",
       "      <td>Todd</td>\n",
       "      <td>0</td>\n",
       "      <td>9</td>\n",
       "      <td>3</td>\n",
       "      <td>1.0</td>\n",
       "      <td>3</td>\n",
       "      <td>1</td>\n",
       "    </tr>\n",
       "    <tr>\n",
       "      <th>3</th>\n",
       "      <td>North</td>\n",
       "      <td>Sales Support</td>\n",
       "      <td>4:00 PM</td>\n",
       "      <td>Incoming</td>\n",
       "      <td>B</td>\n",
       "      <td>Brent</td>\n",
       "      <td>0</td>\n",
       "      <td>11</td>\n",
       "      <td>2</td>\n",
       "      <td>1.0</td>\n",
       "      <td>4</td>\n",
       "      <td>1</td>\n",
       "    </tr>\n",
       "    <tr>\n",
       "      <th>4</th>\n",
       "      <td>North</td>\n",
       "      <td>Product Support</td>\n",
       "      <td>12:00 PM</td>\n",
       "      <td>Incoming</td>\n",
       "      <td>B</td>\n",
       "      <td>Brent</td>\n",
       "      <td>0</td>\n",
       "      <td>8</td>\n",
       "      <td>2</td>\n",
       "      <td>1.0</td>\n",
       "      <td>4</td>\n",
       "      <td>1</td>\n",
       "    </tr>\n",
       "    <tr>\n",
       "      <th>...</th>\n",
       "      <td>...</td>\n",
       "      <td>...</td>\n",
       "      <td>...</td>\n",
       "      <td>...</td>\n",
       "      <td>...</td>\n",
       "      <td>...</td>\n",
       "      <td>...</td>\n",
       "      <td>...</td>\n",
       "      <td>...</td>\n",
       "      <td>...</td>\n",
       "      <td>...</td>\n",
       "      <td>...</td>\n",
       "    </tr>\n",
       "    <tr>\n",
       "      <th>554</th>\n",
       "      <td>South</td>\n",
       "      <td>Product Support</td>\n",
       "      <td>5:00 PM</td>\n",
       "      <td>Outgoing</td>\n",
       "      <td>D</td>\n",
       "      <td>Helga</td>\n",
       "      <td>0</td>\n",
       "      <td>10</td>\n",
       "      <td>3</td>\n",
       "      <td>NaN</td>\n",
       "      <td>4</td>\n",
       "      <td>1</td>\n",
       "    </tr>\n",
       "    <tr>\n",
       "      <th>555</th>\n",
       "      <td>South</td>\n",
       "      <td>Product Support</td>\n",
       "      <td>5:00 PM</td>\n",
       "      <td>Outgoing</td>\n",
       "      <td>C</td>\n",
       "      <td>Susan</td>\n",
       "      <td>0</td>\n",
       "      <td>12</td>\n",
       "      <td>3</td>\n",
       "      <td>NaN</td>\n",
       "      <td>4</td>\n",
       "      <td>1</td>\n",
       "    </tr>\n",
       "    <tr>\n",
       "      <th>556</th>\n",
       "      <td>South</td>\n",
       "      <td>Product Support</td>\n",
       "      <td>5:00 PM</td>\n",
       "      <td>Outgoing</td>\n",
       "      <td>C</td>\n",
       "      <td>Sandy</td>\n",
       "      <td>0</td>\n",
       "      <td>9</td>\n",
       "      <td>3</td>\n",
       "      <td>NaN</td>\n",
       "      <td>4</td>\n",
       "      <td>1</td>\n",
       "    </tr>\n",
       "    <tr>\n",
       "      <th>557</th>\n",
       "      <td>South</td>\n",
       "      <td>Product Support</td>\n",
       "      <td>5:00 PM</td>\n",
       "      <td>Outgoing</td>\n",
       "      <td>C</td>\n",
       "      <td>Eric</td>\n",
       "      <td>0</td>\n",
       "      <td>10</td>\n",
       "      <td>1</td>\n",
       "      <td>NaN</td>\n",
       "      <td>2</td>\n",
       "      <td>1</td>\n",
       "    </tr>\n",
       "    <tr>\n",
       "      <th>558</th>\n",
       "      <td>South</td>\n",
       "      <td>Product Support</td>\n",
       "      <td>5:00 PM</td>\n",
       "      <td>Outgoing</td>\n",
       "      <td>D</td>\n",
       "      <td>George</td>\n",
       "      <td>0</td>\n",
       "      <td>10</td>\n",
       "      <td>2</td>\n",
       "      <td>NaN</td>\n",
       "      <td>3</td>\n",
       "      <td>1</td>\n",
       "    </tr>\n",
       "  </tbody>\n",
       "</table>\n",
       "<p>559 rows × 12 columns</p>\n",
       "</div>"
      ],
      "text/plain": [
       "    Branch     Call Purpose Time Block Incoming or Outgoing Queue  Rep ID  \\\n",
       "0    North        Complaint    9:00 AM             Incoming     B   Brent   \n",
       "1    North    Sales Support   11:00 AM             Incoming     A     Cam   \n",
       "2    North    Sales Support   11:00 AM             Incoming     B    Todd   \n",
       "3    North    Sales Support    4:00 PM             Incoming     B   Brent   \n",
       "4    North  Product Support   12:00 PM             Incoming     B   Brent   \n",
       "..     ...              ...        ...                  ...   ...     ...   \n",
       "554  South  Product Support    5:00 PM             Outgoing     D   Helga   \n",
       "555  South  Product Support    5:00 PM             Outgoing     C   Susan   \n",
       "556  South  Product Support    5:00 PM             Outgoing     C   Sandy   \n",
       "557  South  Product Support    5:00 PM             Outgoing     C    Eric   \n",
       "558  South  Product Support    5:00 PM             Outgoing     D  George   \n",
       "\n",
       "     Abandoned  Busy Minutes  Not Ready Minutes  Incoming Wait Time  \\\n",
       "0            1             9                  2                 1.0   \n",
       "1            0            11                  1                 1.0   \n",
       "2            0             9                  3                 1.0   \n",
       "3            0            11                  2                 1.0   \n",
       "4            0             8                  2                 1.0   \n",
       "..         ...           ...                ...                 ...   \n",
       "554          0            10                  3                 NaN   \n",
       "555          0            12                  3                 NaN   \n",
       "556          0             9                  3                 NaN   \n",
       "557          0            10                  1                 NaN   \n",
       "558          0            10                  2                 NaN   \n",
       "\n",
       "     During Call Wait Time  Calls  \n",
       "0                        4      1  \n",
       "1                        3      1  \n",
       "2                        3      1  \n",
       "3                        4      1  \n",
       "4                        4      1  \n",
       "..                     ...    ...  \n",
       "554                      4      1  \n",
       "555                      4      1  \n",
       "556                      4      1  \n",
       "557                      2      1  \n",
       "558                      3      1  \n",
       "\n",
       "[559 rows x 12 columns]"
      ]
     },
     "execution_count": 22,
     "metadata": {},
     "output_type": "execute_result"
    }
   ],
   "source": [
    "# Create dataframe for the entire company named df\n",
    "df = pd.merge(ndf, sdf, how='outer')\n",
    "df\n"
   ]
  },
  {
   "cell_type": "markdown",
   "id": "7e87dfd1",
   "metadata": {},
   "source": [
    "#### Manipulation Question 1:  Group by Rep ID and sum the resulting structure. Sort by calls to determine which rep in each branch has the highest number of calls.\n",
    "\n",
    "##### Record your answer by double clicking here:\n",
    "Rep with the hightest number of calls and their total calls:\n",
    "- North Branch = Brent had the highest calls in the North Branch\n",
    "- South Branch = Eric had the highest in the South branch\n"
   ]
  },
  {
   "cell_type": "code",
   "execution_count": 23,
   "id": "3953f09a",
   "metadata": {},
   "outputs": [
    {
     "data": {
      "text/plain": [
       "Rep ID\n",
       "Brent     37\n",
       "Eric      35\n",
       "Randy     33\n",
       "Sandy     32\n",
       "Helga     31\n",
       "Lilly     30\n",
       "Todd      29\n",
       "Duke      29\n",
       "George    29\n",
       "Kate      29\n",
       "Karl      28\n",
       "Josh      26\n",
       "Susan     26\n",
       "Joe       26\n",
       "Sharon    25\n",
       "Xander    24\n",
       "Cam       24\n",
       "Amanda    23\n",
       "Andy      23\n",
       "Alice     20\n",
       "Name: Calls, dtype: int64"
      ]
     },
     "execution_count": 23,
     "metadata": {},
     "output_type": "execute_result"
    }
   ],
   "source": [
    "# Code Used\n",
    "df.groupby('Rep ID').Calls.sum().sort_values(ascending=False)\n",
    "# Add Additional Cells as needed."
   ]
  },
  {
   "cell_type": "markdown",
   "id": "809293b9",
   "metadata": {},
   "source": [
    "#### Manipulation Question 2:  The average call abandonment rate is a KPI when it comes to determining call center efficiency. As you may recall, abandoned calls are calls where the customer hangs up due to long call times. What is the average call abandonment rate for each branch and the whole company? Do any of these fall out of the optimal range of 2-5%?\n",
    "##### Record your answer by double clicking here:\n",
    "Average Call Abandonment Rates (round to the nearest hundredth):\n",
    "- North Branch = 2.86%\n",
    "- South Branch = 1.27%\n",
    "- Company Wide =  2.06\n",
    "- Do any of these fall out of the optimal range of 2-5%? North branch falls out of the optimal range and South branch does not."
   ]
  },
  {
   "cell_type": "code",
   "execution_count": 24,
   "id": "3dff7534",
   "metadata": {},
   "outputs": [
    {
     "data": {
      "text/plain": [
       "Abandoned\n",
       "0    548\n",
       "1     11\n",
       "dtype: int64"
      ]
     },
     "execution_count": 24,
     "metadata": {},
     "output_type": "execute_result"
    }
   ],
   "source": [
    "# Code Used\n",
    "df.value_counts('Abandoned')\n",
    "# Add Additional Cells as needed."
   ]
  },
  {
   "cell_type": "code",
   "execution_count": 25,
   "id": "10ba28b4",
   "metadata": {},
   "outputs": [
    {
     "data": {
      "text/plain": [
       "559"
      ]
     },
     "execution_count": 25,
     "metadata": {},
     "output_type": "execute_result"
    }
   ],
   "source": [
    "column_name = 'Abandoned'\n",
    "totalabandonedcalls = df['Abandoned'].value_counts().sum()\n",
    "totalabandonedcalls"
   ]
  },
  {
   "cell_type": "code",
   "execution_count": 26,
   "id": "7ad96d17",
   "metadata": {},
   "outputs": [
    {
     "data": {
      "text/plain": [
       "11"
      ]
     },
     "execution_count": 26,
     "metadata": {},
     "output_type": "execute_result"
    }
   ],
   "source": [
    "abandonedcalls = df.Abandoned.value_counts()[1]\n",
    "abandonedcalls"
   ]
  },
  {
   "cell_type": "code",
   "execution_count": 27,
   "id": "17ea5ed4",
   "metadata": {},
   "outputs": [
    {
     "data": {
      "text/plain": [
       "1.9677996422182469"
      ]
     },
     "execution_count": 27,
     "metadata": {},
     "output_type": "execute_result"
    }
   ],
   "source": [
    "Coabandoned = abandonedcalls / totalabandonedcalls.sum() * 100\n",
    "Coabandoned"
   ]
  },
  {
   "cell_type": "code",
   "execution_count": 28,
   "id": "afccff94",
   "metadata": {},
   "outputs": [
    {
     "data": {
      "text/plain": [
       "Branch\n",
       "North    7\n",
       "South    4\n",
       "Name: Abandoned, dtype: int64"
      ]
     },
     "execution_count": 28,
     "metadata": {},
     "output_type": "execute_result"
    }
   ],
   "source": [
    "df.groupby('Branch').Abandoned.sum().sort_values(ascending=False)"
   ]
  },
  {
   "cell_type": "code",
   "execution_count": null,
   "id": "5a8f1272",
   "metadata": {},
   "outputs": [],
   "source": [
    "#abandonment rate per branch"
   ]
  },
  {
   "cell_type": "code",
   "execution_count": 29,
   "id": "d84f5462",
   "metadata": {},
   "outputs": [
    {
     "data": {
      "text/plain": [
       "2.857142857142857"
      ]
     },
     "execution_count": 29,
     "metadata": {},
     "output_type": "execute_result"
    }
   ],
   "source": [
    "(ndf[\"Abandoned\"].sum()/ndf[\"Calls\"].sum())*100"
   ]
  },
  {
   "cell_type": "code",
   "execution_count": 30,
   "id": "8b7ec109",
   "metadata": {},
   "outputs": [
    {
     "data": {
      "text/plain": [
       "1.2738853503184715"
      ]
     },
     "execution_count": 30,
     "metadata": {},
     "output_type": "execute_result"
    }
   ],
   "source": [
    "(sdf[\"Abandoned\"].sum()/sdf[\"Calls\"].sum())*100"
   ]
  },
  {
   "cell_type": "markdown",
   "id": "598bb1bf",
   "metadata": {},
   "source": [
    "#### Manipulation Question 3:  Service level is another KPI when it comes to measuring call center efficiency. Service level is the percentage of calls answered within a specific number of seconds. In the case of your employer, their ideal time frame is 2 seconds. What is the percentage of calls answered within 2 seconds for each branch and the entire company?\n",
    "##### Record your answer by double clicking here:\n",
    "Percentage of calls answered within 2 seconds, include # of calls:\n",
    "- North Branch = 8.89\n",
    "- South Branch = 12.93\n",
    "- Company Wide = 21.83"
   ]
  },
  {
   "cell_type": "code",
   "execution_count": 31,
   "id": "2fc8f669",
   "metadata": {},
   "outputs": [
    {
     "data": {
      "text/plain": [
       "81"
      ]
     },
     "execution_count": 31,
     "metadata": {},
     "output_type": "execute_result"
    }
   ],
   "source": [
    "# Code Used\n",
    "Waittimecol = 'Incoming Wait Time'\n",
    "waittime = df['Incoming Wait Time'].value_counts().sum()\n",
    "waittime_temp = df[df['Incoming Wait Time'] <=2].value_counts().sum()\n",
    "waittime_temp\n",
    "# Add Additional Cells as needed."
   ]
  },
  {
   "cell_type": "code",
   "execution_count": 32,
   "id": "313ac8ad",
   "metadata": {},
   "outputs": [
    {
     "data": {
      "text/plain": [
       "21.83288409703504"
      ]
     },
     "execution_count": 32,
     "metadata": {},
     "output_type": "execute_result"
    }
   ],
   "source": [
    "df_prc = waittime_temp/waittime * 100\n",
    "df_prc"
   ]
  },
  {
   "cell_type": "code",
   "execution_count": 33,
   "id": "d60b73dd",
   "metadata": {},
   "outputs": [
    {
     "data": {
      "text/plain": [
       "33"
      ]
     },
     "execution_count": 33,
     "metadata": {},
     "output_type": "execute_result"
    }
   ],
   "source": [
    "Waittimecol = 'Incoming Wait Time'\n",
    "waittime = df['Incoming Wait Time'].value_counts().sum()\n",
    "waittime_temp = ndf[ndf['Incoming Wait Time'] <=2].value_counts().sum()\n",
    "waittime_temp"
   ]
  },
  {
   "cell_type": "code",
   "execution_count": 34,
   "id": "98c5df80",
   "metadata": {},
   "outputs": [
    {
     "data": {
      "text/plain": [
       "8.89487870619946"
      ]
     },
     "execution_count": 34,
     "metadata": {},
     "output_type": "execute_result"
    }
   ],
   "source": [
    "ndf_prc = waittime_temp/waittime * 100\n",
    "ndf_prc"
   ]
  },
  {
   "cell_type": "code",
   "execution_count": 35,
   "id": "9b687b01",
   "metadata": {},
   "outputs": [
    {
     "data": {
      "text/plain": [
       "48"
      ]
     },
     "execution_count": 35,
     "metadata": {},
     "output_type": "execute_result"
    }
   ],
   "source": [
    "Waittimecol = 'Incoming Wait Time'\n",
    "waittime = df['Incoming Wait Time'].value_counts().sum()\n",
    "waittime_temp = sdf[sdf['Incoming Wait Time'] <=2].value_counts().sum()\n",
    "waittime_temp"
   ]
  },
  {
   "cell_type": "code",
   "execution_count": 36,
   "id": "d706a9b0",
   "metadata": {},
   "outputs": [
    {
     "data": {
      "text/plain": [
       "12.93800539083558"
      ]
     },
     "execution_count": 36,
     "metadata": {},
     "output_type": "execute_result"
    }
   ],
   "source": [
    "sdf_prc = waittime_temp/waittime * 100\n",
    "sdf_prc"
   ]
  },
  {
   "cell_type": "code",
   "execution_count": 37,
   "id": "9f548f88",
   "metadata": {},
   "outputs": [
    {
     "data": {
      "text/plain": [
       "208"
      ]
     },
     "execution_count": 37,
     "metadata": {},
     "output_type": "execute_result"
    }
   ],
   "source": [
    "incomingcalls = df.groupby('Incoming or Outgoing').Calls.sum()['Incoming']\n",
    "incomingcalls"
   ]
  },
  {
   "cell_type": "markdown",
   "id": "7e19e705",
   "metadata": {},
   "source": [
    "#### Manipulation Question 4: For each branch and the entire company, what is the average speed of answer?\n",
    "##### Record your answer by double clicking here:\n",
    "Average speed of answer (rounded to nearest hundredth):\n",
    "- North Branch in seconds =  1.18\n",
    "- South Branch in seconds = 0.61\n",
    "- Company Wide in seconds = 1.78\n"
   ]
  },
  {
   "cell_type": "code",
   "execution_count": 38,
   "id": "72a653ed",
   "metadata": {},
   "outputs": [
    {
     "data": {
      "text/plain": [
       "1.7836538461538463"
      ]
     },
     "execution_count": 38,
     "metadata": {},
     "output_type": "execute_result"
    }
   ],
   "source": [
    "# Code Used \n",
    "waittime = df['Incoming Wait Time'].value_counts().sum()\n",
    "Co_incomingwaittime = waittime / incomingcalls.sum() \n",
    "Co_incomingwaittime"
   ]
  },
  {
   "cell_type": "code",
   "execution_count": 39,
   "id": "852f80f3",
   "metadata": {},
   "outputs": [
    {
     "data": {
      "text/plain": [
       "1.1778846153846154"
      ]
     },
     "execution_count": 39,
     "metadata": {},
     "output_type": "execute_result"
    }
   ],
   "source": [
    "waittime = ndf['Incoming Wait Time'].value_counts().sum()\n",
    "Co_incomingwaittime = waittime / incomingcalls.sum() \n",
    "Co_incomingwaittime"
   ]
  },
  {
   "cell_type": "code",
   "execution_count": 40,
   "id": "c1ea8ba8",
   "metadata": {},
   "outputs": [
    {
     "data": {
      "text/plain": [
       "0.6057692307692307"
      ]
     },
     "execution_count": 40,
     "metadata": {},
     "output_type": "execute_result"
    }
   ],
   "source": [
    "waittime = sdf['Incoming Wait Time'].value_counts().sum()\n",
    "Co_incomingwaittime = waittime / incomingcalls.sum() \n",
    "Co_incomingwaittime"
   ]
  },
  {
   "cell_type": "markdown",
   "id": "ba3ca2cd",
   "metadata": {},
   "source": [
    "<span style=\"background-color:orangered; color:orangered;\">- - - - - - - - - - - - - - - - - - - - - - - - - - - - - - - - - - - - - - - - - - - - - - - - - - - - - - - - - - - - - - - - - - - - - - - - - - - - - - - - - - - - - - - - -</span>"
   ]
  },
  {
   "cell_type": "markdown",
   "id": "d5f50a40",
   "metadata": {},
   "source": [
    "## Visualization\n",
    "\n",
    "Create a visualization for each of the following questions. Some of the code to handle aggregating and storing data may be written for you. For each visualization, you choose the chart style that you feel suits the situation best. Make note of the chart style you chose and why. \n",
    "\n",
    "*NOTE Some questions you may decide to use more than one chart and or chart style."
   ]
  },
  {
   "cell_type": "markdown",
   "id": "66ccf83c",
   "metadata": {},
   "source": [
    "#### Visualization 1:  What is the average abandonment rate per queue?\n",
    "##### Record your answer by double clicking here:\n",
    "\n",
    "> Chart style you chose and why: I chose Pie chart because the graph shows the proportions of categorical data."
   ]
  },
  {
   "cell_type": "code",
   "execution_count": 41,
   "id": "c971d779",
   "metadata": {},
   "outputs": [
    {
     "name": "stderr",
     "output_type": "stream",
     "text": [
      "C:\\Users\\suma\\AppData\\Local\\Temp\\ipykernel_668\\813634469.py:9: FutureWarning: The default value of numeric_only in DataFrameGroupBy.sum is deprecated. In a future version, numeric_only will default to False. Either specify numeric_only or select only columns which should be valid for the function.\n",
      "  queue_dict = df.groupby(\"Queue\").agg(\"sum\")\n"
     ]
    },
    {
     "data": {
      "image/png": "[encoded data removed]",
      "text/plain": [
       "<Figure size 800x800 with 1 Axes>"
      ]
     },
     "metadata": {},
     "output_type": "display_data"
    }
   ],
   "source": [
    "# Create visualization 1 here\n",
    "# Import any additional libraries needed with alias\n",
    "\n",
    "\n",
    "\n",
    "# The dictionary abandonment_rates has the data you need.\n",
    "abandonment_rates = {}\n",
    "queues = [\"A\", \"B\", \"C\", \"D\"]\n",
    "queue_dict = df.groupby(\"Queue\").agg(\"sum\")\n",
    "for i in range(4):\n",
    "    abandonment_rates[queues[i]] = queue_dict[\"Abandoned\"][i] / queue_dict[\"Calls\"][i] \n",
    "\n",
    "#Your Code Here:\n",
    "plt.figure(figsize=(8, 8))\n",
    "plt.pie(abandonment_rates.values(), labels=abandonment_rates.keys(), autopct='%1.1f%%', startangle=140, colors=['#ff9999', '#66b3ff', '#99ff99', '#ffcc99'])\n",
    "plt.title(\"Abandonment Rates by Queue\")\n",
    "plt.axis('equal')  # Equal aspect ratio ensures that pie is drawn as a circle.\n",
    "plt.show()\n",
    "\n",
    "\n"
   ]
  },
  {
   "cell_type": "markdown",
   "id": "4a9fc77f",
   "metadata": {},
   "source": [
    "#### Visualization 2: What is the service level percentage and average speed of answer for each rep in the North Branch?\n",
    "##### Record your answer by double clicking here:\n",
    "\n",
    "> Chart style you chose and why: I chose Scatterplot because it shows the average speed of answer for each rep and helps me to recognize the most and least wait times for each rep."
   ]
  },
  {
   "cell_type": "code",
   "execution_count": 44,
   "id": "61f65a7f",
   "metadata": {},
   "outputs": [
    {
     "data": {
      "text/plain": [
       "<Axes: xlabel='Rep ID', ylabel='Incoming Wait Time'>"
      ]
     },
     "execution_count": 44,
     "metadata": {},
     "output_type": "execute_result"
    },
    {
     "data": {
      "image/png": "[encoded data removed]",
      "text/plain": [
       "<Figure size 1200x800 with 1 Axes>"
      ]
     },
     "metadata": {},
     "output_type": "display_data"
    }
   ],
   "source": [
    "# Create visualization 2 here\n",
    "# north_plt contains the data you need for the average speed of answer of each rep\n",
    "\n",
    "north_plt = df.groupby(\"Rep ID\")[\"Incoming Wait Time\"].mean().to_frame().reset_index()\n",
    "\n",
    "# Finding each Rep's Personal Service Level Percentage.  Basically, Calls within 2 secs / total calls\n",
    "\n",
    "# Table 1: Total Incoming calls less than 2 seconds grouped by Rep\n",
    "quick_calls = df[df[\"Incoming Wait Time\"] <= 2.0]\n",
    "quick_reps = quick_calls[[\"Rep ID\", \"Calls\"]]\n",
    "quick_stats = quick_reps.groupby([\"Rep ID\"]).sum()  # Final Table\n",
    "\n",
    "\n",
    "# Table 2: Total Incoming Calls Only grouped by Rep\n",
    "total_calls_in = ndf[ndf[\"Incoming or Outgoing\"] == \"Incoming\"]\n",
    "rep_calls = total_calls_in[[\"Rep ID\", \"Calls\"]]     \n",
    "total_stats = rep_calls.groupby([\"Rep ID\"]).sum() # Final Table  \n",
    "\n",
    "#  Table 3: Service Level Percentage created via merge\n",
    "service_level = pd.merge(quick_stats, total_stats, on=\"Rep ID\")\n",
    "\n",
    "# Create Percentage Column in Table 3\n",
    "service_level[\"Service Level %\"] = service_level[\"Calls_x\"]/service_level[\"Calls_y\"] * 100\n",
    "\n",
    "#Your Code Here:\n",
    "sns.scatterplot(data=north_plt, x=\"Rep ID\", y=\"Incoming Wait Time\")"
   ]
  },
  {
   "cell_type": "markdown",
   "id": "f965e41a",
   "metadata": {},
   "source": [
    "#### Visualization 3: For each type of call purpose, how many calls are outgoing vs. incoming?\n",
    "##### Record your answer by double clicking here:\n",
    "\n",
    "> Chart style you chose and why: I chose barchart because it helps me visualize incoming vs outgoing calls and the call type."
   ]
  },
  {
   "cell_type": "code",
   "execution_count": 45,
   "id": "44096730",
   "metadata": {},
   "outputs": [
    {
     "name": "stdout",
     "output_type": "stream",
     "text": [
      "Call Purpose     Incoming or Outgoing\n",
      "Complaint        Incoming                 51\n",
      "Product Support  Outgoing                228\n",
      "                 Incoming                 82\n",
      "Sales Support    Outgoing                123\n",
      "                 Incoming                 75\n",
      "Name: Incoming or Outgoing, dtype: int64\n"
     ]
    },
    {
     "data": {
      "image/png": "[encoded data removed]",
      "text/plain": [
       "<Figure size 1200x800 with 1 Axes>"
      ]
     },
     "metadata": {},
     "output_type": "display_data"
    }
   ],
   "source": [
    "# Create visualization 3 here:\n",
    "# The three dictionaries, complaints, sales_support, and product_support, have the information you need\n",
    "\n",
    "purpose_group = df.groupby(\"Call Purpose\")\n",
    "call_purpose = [\"Complaint\", \"Product Support\", \"Sales Support\"]\n",
    "purpose_counts = purpose_group[\"Incoming or Outgoing\"].value_counts()\n",
    "print(purpose_counts)\n",
    "\n",
    "complaints = purpose_counts[\"Complaint\"].to_dict()\n",
    "sales_support = purpose_counts[\"Sales Support\"].to_dict()\n",
    "product_support = purpose_counts[\"Product Support\"].to_dict()\n",
    "\n",
    "#Your Code Here:\n",
    "df['Call Purpose'].value_counts().head(10)\n",
    "\n",
    "sns.set_context(\"poster\")\n",
    "most_books = df.groupby('Call Purpose')['Incoming or Outgoing'].count().reset_index().sort_values('Incoming or Outgoing', ascending =False).head(10).set_index('Call Purpose',)\n",
    "ax=sns.barplot(x= most_books.index, y= most_books['Incoming or Outgoing'], palette = 'tab10', orient = 'v')\n",
    "ax.tick_params(axis ='x', rotation = 50)\n",
    "ax.set_title(\"Type of calls and purpose\", size = 20)\n",
    "ax.set_xlabel(\"Call Purpose\", size = 15)\n",
    "ax.set_ylabel('purpose_counts', size = 15)\n",
    "plt.show()"
   ]
  },
  {
   "cell_type": "markdown",
   "id": "bccf28f1",
   "metadata": {},
   "source": [
    "<span style=\"background-color:orangered; color:orangered;\">- - - - - - - - - - - - - - - - - - - - - - - - - - - - - - - - - - - - - - - - - - - - - - - - - - - - - - - - - - - - - - - - - - - - - - - - - - - - - - - - - - - - - - - - -</span>"
   ]
  },
  {
   "cell_type": "markdown",
   "id": "ea7ed568",
   "metadata": {},
   "source": [
    "## Summarize Your Work\n",
    "\n",
    "With what you know now about the two call centers and the entire company, answer the following questions. Note that while this is subjective, you should include relevant data to back up your opinion.\n"
   ]
  },
  {
   "cell_type": "markdown",
   "id": "d2fc3d13",
   "metadata": {},
   "source": [
    "#### Summary Question 1:  Using KPIs such as average abandonment rate, service level and average speed of answer, in your opinion, which one of the two branches is operating more efficiently? Why?\n",
    "\n",
    "##### Record your answer by double clicking here:\n",
    "> Your Answer:  I felt like the north branch wass operating more efficiently because the reps were taking more calls, and had a lower incoming wait time.\n",
    "\n"
   ]
  },
  {
   "cell_type": "markdown",
   "id": "489f28d6",
   "metadata": {},
   "source": [
    "#### Summary Question 2: Based on the number of reps in each branch and how quickly the reps are working, in your opinion, which branch would benefit from the extra help?\n",
    "\n",
    "##### Record your answer by double clicking here:\n",
    "> Your Answer: I think the North and South branch needs help based on the abandonment rate, call wait time and percentage of calls answered."
   ]
  },
  {
   "cell_type": "markdown",
   "id": "0b10a8c3",
   "metadata": {},
   "source": [
    "#### Summary Question 3: Now that you have explored the datasets, is there any data or information that you wish you had in this analysis?\n",
    "\n",
    "##### Record your answer by double clicking here:\n",
    "> Your Answer: The dataset looks good\n"
   ]
  },
  {
   "cell_type": "markdown",
   "id": "26691f10",
   "metadata": {},
   "source": [
    "<span style=\"background-color:orangered; color:orangered;\">- - - - - - - - - - - - - - - - - - - - - - - - - - - - - - - - - - - - - - - - - - - - - - - - - - - - - - - - - - - - - - - - - - - - - - - - - - - - - - - - - - - - - - - - -</span>"
   ]
  },
  {
   "cell_type": "markdown",
   "id": "ce16f43d",
   "metadata": {},
   "source": [
    "## Bonus Mission\n",
    "Create a visualization that answers this question: For each call purpose, how many calls (incoming and outgoing) take place in each time block?\n",
    "##### Record your answer by double clicking here:\n",
    "\n",
    "> Chart style you chose and why: "
   ]
  },
  {
   "cell_type": "code",
   "execution_count": null,
   "id": "71b04f32",
   "metadata": {},
   "outputs": [],
   "source": [
    "# Create your Bonus Mission visualization here!\n",
    "call_times = df[[\"Time Block\", \"Call Purpose\", \"Incoming or Outgoing\", \"Calls\"]]\n",
    "\n",
    "# Use groupby to plot based on time blocks:\n",
    "\n",
    "# Use groupby and get_group to select which call purpose to plot:"
   ]
  }
 ],
 "metadata": {
  "kernelspec": {
   "display_name": "Python 3 (ipykernel)",
   "language": "python",
   "name": "python3"
  },
  "language_info": {
   "codemirror_mode": {
    "name": "ipython",
    "version": 3
   },
   "file_extension": ".py",
   "mimetype": "text/x-python",
   "name": "python",
   "nbconvert_exporter": "python",
   "pygments_lexer": "ipython3",
   "version": "3.10.9"
  }
 },
 "nbformat": 4,
 "nbformat_minor": 5
}
